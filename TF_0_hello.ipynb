{
  "nbformat": 4,
  "nbformat_minor": 0,
  "metadata": {
    "kernelspec": {
      "name": "python3",
      "display_name": "Python 3"
    },
    "colab": {
      "name": "Copy of TF_0_hello.ipynb",
      "provenance": [],
      "include_colab_link": true
    },
    "accelerator": "GPU"
  },
  "cells": [
    {
      "cell_type": "markdown",
      "metadata": {
        "id": "view-in-github",
        "colab_type": "text"
      },
      "source": [
        "<a href=\"https://colab.research.google.com/github/chunyulin/test/blob/master/TF_0_hello.ipynb\" target=\"_parent\"><img src=\"https://colab.research.google.com/assets/colab-badge.svg\" alt=\"Open In Colab\"/></a>"
      ]
    },
    {
      "cell_type": "code",
      "metadata": {
        "id": "cCa-KTdFKNEd",
        "colab_type": "code",
        "outputId": "3940e3c6-4f03-4d6a-8cd0-6cad54f11644",
        "colab": {
          "base_uri": "https://localhost:8080/",
          "height": 561
        }
      },
      "source": [
        "###\n",
        "###  First, check your TF version and the hardware enviorment\n",
        "###\n",
        "import tensorflow as tf\n",
        "#import tensorflow.compat.v1 as tf\n",
        "\n",
        "from tensorflow.python.client import device_lib\n",
        "\n",
        "print (\"Using Tensorflow: \", tf.__version__)\n",
        "print ( device_lib.list_local_devices() )\n"
      ],
      "execution_count": 0,
      "outputs": [
        {
          "output_type": "stream",
          "text": [
            "Using Tensorflow:  2.2.0\n",
            "[name: \"/device:CPU:0\"\n",
            "device_type: \"CPU\"\n",
            "memory_limit: 268435456\n",
            "locality {\n",
            "}\n",
            "incarnation: 3813748545573676834\n",
            ", name: \"/device:XLA_CPU:0\"\n",
            "device_type: \"XLA_CPU\"\n",
            "memory_limit: 17179869184\n",
            "locality {\n",
            "}\n",
            "incarnation: 11445488560542056787\n",
            "physical_device_desc: \"device: XLA_CPU device\"\n",
            ", name: \"/device:XLA_GPU:0\"\n",
            "device_type: \"XLA_GPU\"\n",
            "memory_limit: 17179869184\n",
            "locality {\n",
            "}\n",
            "incarnation: 381849551313152566\n",
            "physical_device_desc: \"device: XLA_GPU device\"\n",
            ", name: \"/device:GPU:0\"\n",
            "device_type: \"GPU\"\n",
            "memory_limit: 11150726272\n",
            "locality {\n",
            "  bus_id: 1\n",
            "  links {\n",
            "  }\n",
            "}\n",
            "incarnation: 1963956400254218049\n",
            "physical_device_desc: \"device: 0, name: Tesla K80, pci bus id: 0000:00:04.0, compute capability: 3.7\"\n",
            "]\n"
          ],
          "name": "stdout"
        }
      ]
    },
    {
      "cell_type": "code",
      "metadata": {
        "id": "S5JDC5c0KNEl",
        "colab_type": "code",
        "outputId": "3ccdeb2a-eaa4-4160-e902-db46aa750ca6",
        "colab": {
          "base_uri": "https://localhost:8080/",
          "height": 289
        }
      },
      "source": [
        "### First, check GPU status if you have a GPU \n",
        "!nvidia-smi"
      ],
      "execution_count": 0,
      "outputs": [
        {
          "output_type": "stream",
          "text": [
            "Tue Jun  9 08:38:29 2020       \n",
            "+-----------------------------------------------------------------------------+\n",
            "| NVIDIA-SMI 440.82       Driver Version: 418.67       CUDA Version: 10.1     |\n",
            "|-------------------------------+----------------------+----------------------+\n",
            "| GPU  Name        Persistence-M| Bus-Id        Disp.A | Volatile Uncorr. ECC |\n",
            "| Fan  Temp  Perf  Pwr:Usage/Cap|         Memory-Usage | GPU-Util  Compute M. |\n",
            "|===============================+======================+======================|\n",
            "|   0  Tesla K80           Off  | 00000000:00:04.0 Off |                    0 |\n",
            "| N/A   40C    P0    57W / 149W |    130MiB / 11441MiB |      0%      Default |\n",
            "+-------------------------------+----------------------+----------------------+\n",
            "                                                                               \n",
            "+-----------------------------------------------------------------------------+\n",
            "| Processes:                                                       GPU Memory |\n",
            "|  GPU       PID   Type   Process name                             Usage      |\n",
            "|=============================================================================|\n",
            "+-----------------------------------------------------------------------------+\n"
          ],
          "name": "stdout"
        }
      ]
    },
    {
      "cell_type": "code",
      "metadata": {
        "id": "RiM-wQfIKNEq",
        "colab_type": "code",
        "outputId": "ef1c8b9f-464c-408f-a364-1dcbeb8a12f5",
        "colab": {
          "base_uri": "https://localhost:8080/",
          "height": 231
        }
      },
      "source": [
        "###\n",
        "### Variables, Constant, Placeholders\n",
        "###\n",
        "tf.reset_default_graph()\n",
        "\n",
        "## create a variable of rank-3 zero tensor  \n",
        "# GraphKeys can be such as:\n",
        "#   GLOBAL_VARIABLES\n",
        "#   LOCAL_VARIABLES\n",
        "#   TRAINABLE_VARIABLES, or control by \"trainable=False\"\n",
        "#\n",
        "var = tf.get_variable(\"var\", shape=[2, 3], dtype=tf.float32, \n",
        "         initializer=tf.zeros_initializer, collections=[tf.GraphKeys.LOCAL_VARIABLES])\n",
        "\n",
        "with tf.variable_scope(\"ABC\"):\n",
        "    a = tf.add(3, 5)\n",
        "    a = tf.cast(a, tf.float32) \n",
        "\n",
        "sess = tf.Session()\n",
        "sess.run(tf.global_variables_initializer())\n",
        "print (sess.run(a) )\n",
        "print (sess.run( tf.sin(a) ))\n",
        "\n",
        "sess.run(tf.local_variables_initializer())\n",
        "var = (var + 1.0 )*5\n",
        "print (sess.run(var))\n",
        "\n",
        "\n",
        "\n",
        "sess.close()\n"
      ],
      "execution_count": 0,
      "outputs": [
        {
          "output_type": "error",
          "ename": "AttributeError",
          "evalue": "ignored",
          "traceback": [
            "\u001b[0;31m---------------------------------------------------------------------------\u001b[0m",
            "\u001b[0;31mAttributeError\u001b[0m                            Traceback (most recent call last)",
            "\u001b[0;32m<ipython-input-6-ebf6652450ed>\u001b[0m in \u001b[0;36m<module>\u001b[0;34m()\u001b[0m\n\u001b[1;32m      2\u001b[0m \u001b[0;31m### Variables, Constant, Placeholders\u001b[0m\u001b[0;34m\u001b[0m\u001b[0;34m\u001b[0m\u001b[0;34m\u001b[0m\u001b[0m\n\u001b[1;32m      3\u001b[0m \u001b[0;31m###\u001b[0m\u001b[0;34m\u001b[0m\u001b[0;34m\u001b[0m\u001b[0;34m\u001b[0m\u001b[0m\n\u001b[0;32m----> 4\u001b[0;31m \u001b[0mtf\u001b[0m\u001b[0;34m.\u001b[0m\u001b[0mreset_default_graph\u001b[0m\u001b[0;34m(\u001b[0m\u001b[0;34m)\u001b[0m\u001b[0;34m\u001b[0m\u001b[0;34m\u001b[0m\u001b[0m\n\u001b[0m\u001b[1;32m      5\u001b[0m \u001b[0;34m\u001b[0m\u001b[0m\n\u001b[1;32m      6\u001b[0m \u001b[0;31m## create a variable of rank-3 zero tensor\u001b[0m\u001b[0;34m\u001b[0m\u001b[0;34m\u001b[0m\u001b[0;34m\u001b[0m\u001b[0m\n",
            "\u001b[0;31mAttributeError\u001b[0m: module 'tensorflow' has no attribute 'reset_default_graph'"
          ]
        }
      ]
    },
    {
      "cell_type": "markdown",
      "metadata": {
        "id": "MWhNUJEFMNFr",
        "colab_type": "text"
      },
      "source": [
        "### From TF1 -> TF2\n",
        "TF 1.x relies on global namespaces. Tf.Variable() will be put into default graph and will stay there. When loosing track, it could only be recovered when the name is known. -- A bad software-engineering practice\n",
        "* The v1 syntax not work anymore. No more global namespaces and mechanisms to find variables.\n",
        "* Use Keras layers, or keep track of the variables yourself\n",
        "* Garbage Collector takes care of lost variables\n",
        "* variable_scope and get_variable will be removed\n",
        "* naming will be controlled via tf.name_scope + tf.Variable\n",
        "\n",
        "### Eager Execution\n",
        "Eager execution evaluates operations immediately instead building graphs.\n",
        "That means operations return concrete values instead of constructing a computational graph to run\n",
        "later\n",
        "Introduced with TensorFlow 1.8\n",
        "Default mode in Version 2\n",
        "\n"
      ]
    },
    {
      "cell_type": "code",
      "metadata": {
        "id": "noEI6VPENuQ4",
        "colab_type": "code",
        "outputId": "f68223a9-9821-4f26-9933-92807150b875",
        "colab": {
          "base_uri": "https://localhost:8080/",
          "height": 187
        }
      },
      "source": [
        "## tf.Tensor object references concrete value TF2\n",
        "x = [[2.]]\n",
        "m = tf.matmul(x, x)\n",
        "print(\"{}\".format(m))\n",
        "\n",
        "## Another example:\n",
        "a = tf.constant([[1, 2], [3, 4]])\n",
        "print(a)\n",
        "b = a + tf.constant([1])   # broadcasting\n",
        "print(b)\n",
        "print(a*b)"
      ],
      "execution_count": 0,
      "outputs": [
        {
          "output_type": "stream",
          "text": [
            "[[4.]]\n",
            "tf.Tensor(\n",
            "[[1 2]\n",
            " [3 4]], shape=(2, 2), dtype=int32)\n",
            "tf.Tensor(\n",
            "[[2 3]\n",
            " [4 5]], shape=(2, 2), dtype=int32)\n",
            "tf.Tensor(\n",
            "[[ 2  6]\n",
            " [12 20]], shape=(2, 2), dtype=int32)\n"
          ],
          "name": "stdout"
        }
      ]
    },
    {
      "cell_type": "code",
      "metadata": {
        "id": "FlxjX49xPbvi",
        "colab_type": "code",
        "outputId": "d9d5d6cf-467f-44dc-f16f-0a12888597b3",
        "colab": {
          "base_uri": "https://localhost:8080/",
          "height": 51
        }
      },
      "source": [
        "## Also, you can interact with numpy\n",
        "import numpy as np\n",
        "c = np.multiply(a, b)\n",
        "print(c)"
      ],
      "execution_count": 0,
      "outputs": [
        {
          "output_type": "stream",
          "text": [
            "[[ 2  6]\n",
            " [12 20]]\n"
          ],
          "name": "stdout"
        }
      ]
    },
    {
      "cell_type": "code",
      "metadata": {
        "id": "wTyESnYOPtGy",
        "colab_type": "code",
        "colab": {}
      },
      "source": [
        "##\n",
        "## Now start a MNIST example:\n",
        "##\n",
        "\n",
        "## 1) Model building\n",
        "class MNISTModel(tf.keras.Model):\n",
        "  def __init__(self):\n",
        "    super(MNISTModel, self).__init__()\n",
        "    self.conv1 = tf.keras.layers.Conv2D(16, (3,3), padding=\"same\", activation='relu')\n",
        "    self.conv2 = tf.keras.layers.Conv2D(16, (3,3), padding=\"same\", activation='relu')\n",
        "    self.flatten = tf.keras.layers.Flatten()\n",
        "    self.dense = tf.keras.layers.Dense(units=(10), activation='softmax')\n",
        "  def call(self, input):\n",
        "    result = self.conv1(input)\n",
        "    result = self.conv2(result)\n",
        "    result = self.flatten(result)\n",
        "    result = self.dense(result)\n",
        "    return result\n",
        "\n",
        "model = MNISTModel()\n",
        "model._set_inputs(tf.keras.Input(shape=(28,28,1,)))"
      ],
      "execution_count": 0,
      "outputs": []
    },
    {
      "cell_type": "code",
      "metadata": {
        "id": "awKk2_RZQBmf",
        "colab_type": "code",
        "outputId": "dfde6fb7-da39-4808-c4f6-59cdc995c5fb",
        "colab": {
          "base_uri": "https://localhost:8080/",
          "height": 51
        }
      },
      "source": [
        "## 2) Preparation of dataset\n",
        "\n",
        "(mnist_images, mnist_labels), _ = tf.keras.datasets.mnist.load_data()\n",
        "print(mnist_images.shape)\n",
        "\n",
        "dataset = tf.data.Dataset.from_tensor_slices((tf.cast(mnist_images[...,tf.newaxis]/255, tf.float32), tf.cast(mnist_labels, tf.int64)))\n",
        "dataset = dataset.shuffle(100).batch(32)\n",
        "print(dataset)"
      ],
      "execution_count": 0,
      "outputs": [
        {
          "output_type": "stream",
          "text": [
            "(60000, 28, 28)\n",
            "<BatchDataset shapes: ((None, 28, 28, 1), (None,)), types: (tf.float32, tf.int64)>\n"
          ],
          "name": "stdout"
        }
      ]
    },
    {
      "cell_type": "code",
      "metadata": {
        "id": "WuLxkDq-WoTF",
        "colab_type": "code",
        "outputId": "548802d3-fc21-4115-f0b5-682d9f52671c",
        "colab": {
          "base_uri": "https://localhost:8080/",
          "height": 281
        }
      },
      "source": [
        "## 2a) Visualize dataset, Data cleaning, Data veracity checking ...\n",
        "\n",
        "import matplotlib.pyplot as plt\n",
        "ID=111\n",
        "plt.imshow(mnist_images[ID])\n",
        "plt.title(\"MNIST: %d\" % mnist_labels[ID])\n",
        "plt.show()"
      ],
      "execution_count": 0,
      "outputs": [
        {
          "output_type": "display_data",
          "data": {
            "image/png": "[encoded data removed]",
            "text/plain": [
              "<Figure size 432x288 with 1 Axes>"
            ]
          },
          "metadata": {
            "tags": [],
            "needs_background": "light"
          }
        }
      ]
    },
    {
      "cell_type": "code",
      "metadata": {
        "id": "9J9iexIBQeko",
        "colab_type": "code",
        "outputId": "0f2c0e0e-a68f-4e1d-ffff-4d89e740f52c",
        "colab": {
          "base_uri": "https://localhost:8080/",
          "height": 102
        }
      },
      "source": [
        "optimizer = tf.keras.optimizers.Adam()\n",
        "loss_history = []\n",
        "for (batch, (images, labels)) in enumerate(dataset.take(400)):\n",
        "  if batch % 100 == 0:   \n",
        "    print('Batch %d'%batch, end='\\n')\n",
        "  with tf.GradientTape() as tape:\n",
        "    logits = model(images)\n",
        "    loss_value = tf.keras.losses.sparse_categorical_crossentropy(labels, logits)\n",
        "  \n",
        "  loss_history.append(np.mean(loss_value))\n",
        "  grads = tape.gradient(loss_value, model.trainable_variables)\n",
        "  optimizer.apply_gradients(zip(grads, model.trainable_variables)\n",
        ")\n",
        "  \n",
        "print(\"Done.\")"
      ],
      "execution_count": 0,
      "outputs": [
        {
          "output_type": "stream",
          "text": [
            "Batch 0\n",
            "Batch 100\n",
            "Batch 200\n",
            "Batch 300\n",
            "Done.\n"
          ],
          "name": "stdout"
        }
      ]
    },
    {
      "cell_type": "code",
      "metadata": {
        "id": "zeAMxfq3Wmyu",
        "colab_type": "code",
        "colab": {}
      },
      "source": [
        ""
      ],
      "execution_count": 0,
      "outputs": []
    },
    {
      "cell_type": "code",
      "metadata": {
        "id": "U_GKGyVpTwqV",
        "colab_type": "code",
        "outputId": "c5f1f737-9da8-4eee-de76-efe26e9f0d3d",
        "colab": {
          "base_uri": "https://localhost:8080/",
          "height": 248
        }
      },
      "source": [
        "for images,labels in dataset.take(5):\n",
        "  print(\"Predict: \", model(images).numpy().argmax())\n",
        "  print( plt.imshow(images.numpy().reshape(28,28*5)))\n",
        "tf.saved_model.save(model, \"model/mnist.model\")   ##  It seems TF can create an folder if not existed.\n",
        "!ls"
      ],
      "execution_count": 0,
      "outputs": [
        {
          "output_type": "stream",
          "text": [
            "Logits:  44\n"
          ],
          "name": "stdout"
        },
        {
          "output_type": "error",
          "ename": "ValueError",
          "evalue": "ignored",
          "traceback": [
            "\u001b[0;31m---------------------------------------------------------------------------\u001b[0m",
            "\u001b[0;31mValueError\u001b[0m                                Traceback (most recent call last)",
            "\u001b[0;32m<ipython-input-48-1aa2f463fa61>\u001b[0m in \u001b[0;36m<module>\u001b[0;34m()\u001b[0m\n\u001b[1;32m      1\u001b[0m \u001b[0;32mfor\u001b[0m \u001b[0mimages\u001b[0m\u001b[0;34m,\u001b[0m\u001b[0mlabels\u001b[0m \u001b[0;32min\u001b[0m \u001b[0mdataset\u001b[0m\u001b[0;34m.\u001b[0m\u001b[0mtake\u001b[0m\u001b[0;34m(\u001b[0m\u001b[0;36m5\u001b[0m\u001b[0;34m)\u001b[0m\u001b[0;34m:\u001b[0m\u001b[0;34m\u001b[0m\u001b[0;34m\u001b[0m\u001b[0m\n\u001b[1;32m      2\u001b[0m   \u001b[0mprint\u001b[0m\u001b[0;34m(\u001b[0m\u001b[0;34m\"Logits: \"\u001b[0m\u001b[0;34m,\u001b[0m \u001b[0mmodel\u001b[0m\u001b[0;34m(\u001b[0m\u001b[0mimages\u001b[0m\u001b[0;34m)\u001b[0m\u001b[0;34m.\u001b[0m\u001b[0mnumpy\u001b[0m\u001b[0;34m(\u001b[0m\u001b[0;34m)\u001b[0m\u001b[0;34m.\u001b[0m\u001b[0margmax\u001b[0m\u001b[0;34m(\u001b[0m\u001b[0;34m)\u001b[0m\u001b[0;34m)\u001b[0m\u001b[0;34m\u001b[0m\u001b[0;34m\u001b[0m\u001b[0m\n\u001b[0;32m----> 3\u001b[0;31m   \u001b[0mprint\u001b[0m\u001b[0;34m(\u001b[0m \u001b[0mplt\u001b[0m\u001b[0;34m.\u001b[0m\u001b[0mimshow\u001b[0m\u001b[0;34m(\u001b[0m\u001b[0mimages\u001b[0m\u001b[0;34m.\u001b[0m\u001b[0mnumpy\u001b[0m\u001b[0;34m(\u001b[0m\u001b[0;34m)\u001b[0m\u001b[0;34m.\u001b[0m\u001b[0mreshape\u001b[0m\u001b[0;34m(\u001b[0m\u001b[0;36m28\u001b[0m\u001b[0;34m,\u001b[0m\u001b[0;36m28\u001b[0m\u001b[0;34m*\u001b[0m\u001b[0;36m5\u001b[0m\u001b[0;34m)\u001b[0m\u001b[0;34m)\u001b[0m\u001b[0;34m)\u001b[0m\u001b[0;34m\u001b[0m\u001b[0;34m\u001b[0m\u001b[0m\n\u001b[0m\u001b[1;32m      4\u001b[0m \u001b[0mtf\u001b[0m\u001b[0;34m.\u001b[0m\u001b[0msaved_model\u001b[0m\u001b[0;34m.\u001b[0m\u001b[0msave\u001b[0m\u001b[0;34m(\u001b[0m\u001b[0mmodel\u001b[0m\u001b[0;34m,\u001b[0m \u001b[0;34m\"model/mnist.model\"\u001b[0m\u001b[0;34m)\u001b[0m   \u001b[0;31m##  It seems TF can create an folder if not existed.\u001b[0m\u001b[0;34m\u001b[0m\u001b[0;34m\u001b[0m\u001b[0m\n\u001b[1;32m      5\u001b[0m \u001b[0mget_ipython\u001b[0m\u001b[0;34m(\u001b[0m\u001b[0;34m)\u001b[0m\u001b[0;34m.\u001b[0m\u001b[0msystem\u001b[0m\u001b[0;34m(\u001b[0m\u001b[0;34m'ls'\u001b[0m\u001b[0;34m)\u001b[0m\u001b[0;34m\u001b[0m\u001b[0;34m\u001b[0m\u001b[0m\n",
            "\u001b[0;31mValueError\u001b[0m: cannot reshape array of size 25088 into shape (28,140)"
          ]
        }
      ]
    },
    {
      "cell_type": "code",
      "metadata": {
        "id": "TbXXBkpWUdmy",
        "colab_type": "code",
        "outputId": "f630cdba-1ecf-43e0-a683-1733982d1db0",
        "colab": {
          "base_uri": "https://localhost:8080/",
          "height": 34
        }
      },
      "source": [
        "!ls model"
      ],
      "execution_count": 0,
      "outputs": [
        {
          "output_type": "stream",
          "text": [
            "mnist.model\n"
          ],
          "name": "stdout"
        }
      ]
    },
    {
      "cell_type": "code",
      "metadata": {
        "id": "yQcF8AKLSh4G",
        "colab_type": "code",
        "outputId": "35897404-9e9d-4790-eca6-53342f94e044",
        "colab": {
          "base_uri": "https://localhost:8080/",
          "height": 1000
        }
      },
      "source": [
        "import matplotlib.pyplot as plt\n",
        "\n",
        "plt.plot(loss_history)\n",
        "plt.xlabel('Batch #')\n",
        "plt.ylabel('Loss [entropy]')\n",
        "loss_history"
      ],
      "execution_count": 0,
      "outputs": [
        {
          "output_type": "execute_result",
          "data": {
            "text/plain": [
              "[0.047212742,\n",
              " 0.14273638,\n",
              " 0.011704192,\n",
              " 0.06077718,\n",
              " 0.020572633,\n",
              " 0.042891786,\n",
              " 0.0012368283,\n",
              " 0.019683376,\n",
              " 0.006095957,\n",
              " 0.16218373,\n",
              " 0.14090282,\n",
              " 0.073420025,\n",
              " 0.029844478,\n",
              " 0.25074214,\n",
              " 0.032874133,\n",
              " 0.04691821,\n",
              " 0.03177294,\n",
              " 0.14646508,\n",
              " 0.04181207,\n",
              " 0.019091481,\n",
              " 0.003219672,\n",
              " 0.021124315,\n",
              " 0.07171784,\n",
              " 0.005102005,\n",
              " 0.023281697,\n",
              " 0.006045812,\n",
              " 0.05210076,\n",
              " 0.014543668,\n",
              " 0.009718967,\n",
              " 0.105733156,\n",
              " 0.003953214,\n",
              " 0.032255244,\n",
              " 0.05587341,\n",
              " 0.08300457,\n",
              " 0.005664858,\n",
              " 0.06873157,\n",
              " 0.08113486,\n",
              " 0.030028332,\n",
              " 0.0083517255,\n",
              " 0.07398383,\n",
              " 0.1460861,\n",
              " 0.0075782705,\n",
              " 0.0651124,\n",
              " 0.002162896,\n",
              " 0.008529645,\n",
              " 0.009114361,\n",
              " 0.0287327,\n",
              " 0.12776594,\n",
              " 0.0029483943,\n",
              " 0.0012304203,\n",
              " 0.0027728062,\n",
              " 0.20643046,\n",
              " 0.0070868987,\n",
              " 0.023761632,\n",
              " 0.05054181,\n",
              " 0.0066503556,\n",
              " 0.017123237,\n",
              " 0.0074641574,\n",
              " 0.016045144,\n",
              " 0.005650207,\n",
              " 0.005617462,\n",
              " 0.0060430104,\n",
              " 0.005697422,\n",
              " 0.057608917,\n",
              " 0.026058132,\n",
              " 0.018247062,\n",
              " 0.020370238,\n",
              " 0.014737766,\n",
              " 0.011616894,\n",
              " 0.026003351,\n",
              " 0.0030857585,\n",
              " 0.004742988,\n",
              " 0.051710766,\n",
              " 0.012197642,\n",
              " 0.0055785794,\n",
              " 0.026451282,\n",
              " 0.0008084099,\n",
              " 0.001748025,\n",
              " 0.060663052,\n",
              " 0.010856376,\n",
              " 0.0005746848,\n",
              " 0.03215063,\n",
              " 0.018993951,\n",
              " 0.009313262,\n",
              " 0.009901815,\n",
              " 0.2876197,\n",
              " 0.42443976,\n",
              " 0.03703985,\n",
              " 0.0036610435,\n",
              " 0.016048862,\n",
              " 0.0004531616,\n",
              " 0.0013100081,\n",
              " 0.017549803,\n",
              " 0.01628036,\n",
              " 0.010031855,\n",
              " 0.025460962,\n",
              " 0.008275606,\n",
              " 0.0035820669,\n",
              " 0.0075170007,\n",
              " 0.015453786,\n",
              " 0.0059129233,\n",
              " 0.014299561,\n",
              " 0.009714878,\n",
              " 0.0027142863,\n",
              " 0.00420986,\n",
              " 0.011517793,\n",
              " 0.19918926,\n",
              " 0.0016576534,\n",
              " 0.031335056,\n",
              " 0.025291152,\n",
              " 0.014195576,\n",
              " 0.0024601773,\n",
              " 0.012592496,\n",
              " 0.0012613143,\n",
              " 0.019590478,\n",
              " 0.11077298,\n",
              " 0.16983794,\n",
              " 0.0020391417,\n",
              " 0.012457831,\n",
              " 0.0063216174,\n",
              " 0.011713365,\n",
              " 0.0030534118,\n",
              " 0.009441151,\n",
              " 0.060726285,\n",
              " 0.00089434546,\n",
              " 0.0037892237,\n",
              " 0.0068394653,\n",
              " 0.10221559,\n",
              " 0.01191874,\n",
              " 0.0022983341,\n",
              " 0.025304606,\n",
              " 0.012120305,\n",
              " 0.0009718391,\n",
              " 0.009945119,\n",
              " 0.0068965964,\n",
              " 0.09980637,\n",
              " 0.009890018,\n",
              " 0.10920159,\n",
              " 0.0016604629,\n",
              " 0.03297968,\n",
              " 0.028370196,\n",
              " 0.12248659,\n",
              " 0.0106498515,\n",
              " 0.088927984,\n",
              " 0.007202576,\n",
              " 0.01450237,\n",
              " 0.008336041,\n",
              " 0.0071568424,\n",
              " 0.020252777,\n",
              " 0.014026409,\n",
              " 0.009179335,\n",
              " 0.018677562,\n",
              " 0.014120048,\n",
              " 0.012105226,\n",
              " 0.003772307,\n",
              " 0.009368453,\n",
              " 0.02652181,\n",
              " 0.060731363,\n",
              " 0.006770309,\n",
              " 0.007040035,\n",
              " 0.01079638,\n",
              " 0.006474057,\n",
              " 0.009799118,\n",
              " 0.0042049857,\n",
              " 0.21628407,\n",
              " 0.006185535,\n",
              " 0.0362054,\n",
              " 0.012236802,\n",
              " 0.012538601,\n",
              " 0.00517359,\n",
              " 0.01155078,\n",
              " 0.0018561678,\n",
              " 0.0061711017,\n",
              " 0.017725721,\n",
              " 0.14296643,\n",
              " 0.0066421633,\n",
              " 0.04967081,\n",
              " 0.015902916,\n",
              " 0.0659101,\n",
              " 0.0049442556,\n",
              " 0.0040394086,\n",
              " 0.0060336427,\n",
              " 0.0063228207,\n",
              " 0.010192013,\n",
              " 0.022731913,\n",
              " 0.0040032417,\n",
              " 0.0022983071,\n",
              " 0.012662991,\n",
              " 0.0068869093,\n",
              " 0.012636738,\n",
              " 0.0006424228,\n",
              " 0.0018134263,\n",
              " 0.026910162,\n",
              " 0.019288253,\n",
              " 0.0086324625,\n",
              " 0.001318291,\n",
              " 0.025681492,\n",
              " 0.0363429,\n",
              " 0.12740873,\n",
              " 0.0012147558,\n",
              " 0.0072555896,\n",
              " 0.011483354,\n",
              " 0.005768327,\n",
              " 0.0046199183,\n",
              " 0.0034309975,\n",
              " 0.0024892013,\n",
              " 0.003139827,\n",
              " 0.004605589,\n",
              " 0.0007325053,\n",
              " 0.04321476,\n",
              " 0.006011232,\n",
              " 0.033277906,\n",
              " 0.05113843,\n",
              " 0.039288912,\n",
              " 0.005530444,\n",
              " 0.00473986,\n",
              " 0.022608815,\n",
              " 0.05747354,\n",
              " 0.02838542,\n",
              " 0.0034044986,\n",
              " 0.004381168,\n",
              " 0.007220665,\n",
              " 0.04622558,\n",
              " 0.018745016,\n",
              " 0.01101592,\n",
              " 0.051523402,\n",
              " 0.021385133,\n",
              " 0.005681238,\n",
              " 0.06947636,\n",
              " 0.001011611,\n",
              " 0.030875124,\n",
              " 0.013797555,\n",
              " 0.018307671,\n",
              " 0.0031184426,\n",
              " 0.0034241388,\n",
              " 0.00460056,\n",
              " 0.0190259,\n",
              " 0.00067616045,\n",
              " 0.01640726,\n",
              " 0.003515225,\n",
              " 0.007454628,\n",
              " 0.014140911,\n",
              " 0.0036552679,\n",
              " 0.023465388,\n",
              " 0.003321174,\n",
              " 0.034976684,\n",
              " 0.004546949,\n",
              " 0.0007463098,\n",
              " 0.01040371,\n",
              " 0.12257582,\n",
              " 0.0017766937,\n",
              " 0.0054319035,\n",
              " 0.010499899,\n",
              " 0.007814971,\n",
              " 0.115738675,\n",
              " 0.0014816312,\n",
              " 0.0008488321,\n",
              " 0.0042834426,\n",
              " 0.0110407155,\n",
              " 0.0023394302,\n",
              " 0.0067995866,\n",
              " 0.09941475,\n",
              " 0.00395488,\n",
              " 0.0061415965,\n",
              " 0.0013822117,\n",
              " 0.0023613642,\n",
              " 0.0076192496,\n",
              " 0.022777718,\n",
              " 0.021562029,\n",
              " 0.06356101,\n",
              " 0.047712788,\n",
              " 0.018409604,\n",
              " 0.08675864,\n",
              " 0.020023663,\n",
              " 0.008439424,\n",
              " 0.011005228,\n",
              " 0.01052778,\n",
              " 0.0017630192,\n",
              " 0.008693427,\n",
              " 0.06975529,\n",
              " 0.0027314415,\n",
              " 0.012244291,\n",
              " 0.037729576,\n",
              " 0.00019059124,\n",
              " 0.10223617,\n",
              " 0.07863696,\n",
              " 0.0057505737,\n",
              " 0.023630204,\n",
              " 0.0046864985,\n",
              " 0.0005457383,\n",
              " 0.08490846,\n",
              " 0.05187042,\n",
              " 0.13227776,\n",
              " 0.0005539539,\n",
              " 0.01426735,\n",
              " 0.014505803,\n",
              " 0.00043772193,\n",
              " 0.0016929354,\n",
              " 0.01803431,\n",
              " 0.013246242,\n",
              " 0.015698986,\n",
              " 0.0012217057,\n",
              " 0.048976783,\n",
              " 0.0137844,\n",
              " 0.004463914,\n",
              " 0.009590529,\n",
              " 0.0072457846,\n",
              " 0.001992648,\n",
              " 0.005163203,\n",
              " 0.023625448,\n",
              " 0.01409257,\n",
              " 0.002177108,\n",
              " 0.0043437867,\n",
              " 0.023563063,\n",
              " 0.021812607,\n",
              " 0.012091918,\n",
              " 0.0099142175,\n",
              " 0.009217145,\n",
              " 0.005021015,\n",
              " 0.09518728,\n",
              " 0.021251753,\n",
              " 0.00563455,\n",
              " 0.008941908,\n",
              " 0.006840582,\n",
              " 0.002093493,\n",
              " 0.0066877077,\n",
              " 0.007935039,\n",
              " 0.005320984,\n",
              " 0.0031708656,\n",
              " 0.0007537495,\n",
              " 0.0117587615,\n",
              " 0.00858427,\n",
              " 0.028204653,\n",
              " 0.0027969955,\n",
              " 0.0019992127,\n",
              " 0.0023812708,\n",
              " 0.16534986,\n",
              " 0.005573127,\n",
              " 0.04361042,\n",
              " 0.010572324,\n",
              " 0.009961697,\n",
              " 0.34704518,\n",
              " 0.004823362,\n",
              " 0.0012142367,\n",
              " 0.04763011,\n",
              " 0.02078021,\n",
              " 0.0057190307,\n",
              " 0.002140483,\n",
              " 0.020134613,\n",
              " 0.003933772,\n",
              " 0.010633451,\n",
              " 0.0023166956,\n",
              " 0.07070582,\n",
              " 0.0019641626,\n",
              " 0.0036788401,\n",
              " 0.0028961578,\n",
              " 0.012085512,\n",
              " 0.0040095733,\n",
              " 0.0061939834,\n",
              " 0.0049780384,\n",
              " 0.009550767,\n",
              " 0.0042454107,\n",
              " 0.019703893,\n",
              " 0.011863525,\n",
              " 0.004691464,\n",
              " 0.018158022,\n",
              " 0.015611725,\n",
              " 0.01220737,\n",
              " 0.06333411,\n",
              " 0.001974686,\n",
              " 0.032419283,\n",
              " 0.010160777,\n",
              " 0.013099491,\n",
              " 0.07093038,\n",
              " 0.009033038,\n",
              " 0.0012749606,\n",
              " 0.032901376,\n",
              " 0.003449516,\n",
              " 0.009825642,\n",
              " 0.018456677,\n",
              " 0.004605228,\n",
              " 0.010768341,\n",
              " 0.021601703,\n",
              " 0.0019888654,\n",
              " 0.012350735,\n",
              " 0.04204948,\n",
              " 0.0035725688,\n",
              " 0.022394696,\n",
              " 0.0016766427,\n",
              " 0.036293276,\n",
              " 0.024890956,\n",
              " 0.0077500874,\n",
              " 0.006347126,\n",
              " 0.007830685,\n",
              " 0.048823863,\n",
              " 0.004977507,\n",
              " 0.011609463,\n",
              " 0.0017392619,\n",
              " 0.0024946544,\n",
              " 0.06381032]"
            ]
          },
          "metadata": {
            "tags": []
          },
          "execution_count": 38
        },
        {
          "output_type": "display_data",
          "data": {
            "image/png": "[encoded data removed]",
            "text/plain": [
              "<Figure size 432x288 with 1 Axes>"
            ]
          },
          "metadata": {
            "tags": [],
            "needs_background": "light"
          }
        }
      ]
    },
    {
      "cell_type": "code",
      "metadata": {
        "id": "FQffrTtkKNEu",
        "colab_type": "code",
        "outputId": "ebdc0f5f-21b5-4ed0-d4a1-3f8438d42b61",
        "colab": {}
      },
      "source": [
        "### For advanced feature, we can specify which device to be used. \n",
        "### This is only for futher development of distributed training.\n",
        "###\n",
        "### We can program TF just like a complex MPI program with C.\n",
        "###  \n",
        "import tensorflow as tf\n",
        "from tensorflow.python.client import device_lib\n",
        "\n",
        "# Creates a graph.\n",
        "with tf.device('/gpu:0'):\n",
        "    a = tf.constant([1.0, 2.0, 3.0, 4.0, 5.0, 6.0], shape=[2,3],name='a')\n",
        "    b = tf.constant([1.0, 2.0, 3.0, 4.0, 5.0, 6.0], shape=[3,2],name='b')\n",
        "    c = tf.matmul(a, b)\n",
        "\n",
        "sess = tf.Session(config=tf.ConfigProto(log_device_placement=True))\n",
        "print (sess.run(c) )"
      ],
      "execution_count": 0,
      "outputs": [
        {
          "output_type": "stream",
          "text": [
            "[[22. 28.]\n",
            " [49. 64.]]\n"
          ],
          "name": "stdout"
        }
      ]
    },
    {
      "cell_type": "code",
      "metadata": {
        "id": "0Cb9fwnxSgZS",
        "colab_type": "code",
        "colab": {}
      },
      "source": [
        ""
      ],
      "execution_count": 0,
      "outputs": []
    },
    {
      "cell_type": "code",
      "metadata": {
        "id": "AEr4ZvcZKNEx",
        "colab_type": "code",
        "outputId": "72b81c79-d9be-4772-ad79-dd5a04bdd706",
        "colab": {}
      },
      "source": [
        "###\n",
        "###  Build a simple a perceptron model -- logistic regression (sigmoid)\n",
        "###\n",
        "import tensorflow as tf\n",
        "tf.reset_default_graph()\n",
        "\n",
        "IN_DIM = 3\n",
        "OUT_DIM = 1\n",
        "x = tf.placeholder(tf.float32, [None, IN_DIM])\n",
        "y = tf.placeholder(tf.float32, [None, OUT_DIM])\n",
        "\n",
        "W  = tf.Variable(tf.zeros([IN_DIM, OUT_DIM]), name=\"W\")\n",
        "b  = tf.Variable(tf.zeros([OUT_DIM]),         name=\"b\")\n",
        "\n",
        "output  = tf.sigmoid(tf.matmul(x, W) + b)\n",
        "\n",
        "xdata = [  [1.,2.,3.],\n",
        "           [1.,2.,3.]   ]  ## input data with batch size = 2\n",
        "#xdata2 = tf.ones_like(xdata)\n",
        "\n",
        "\n",
        "\n",
        "with tf.Session() as sess:\n",
        "    sess.run(tf.global_variables_initializer())\n",
        "    out = sess.run([output], feed_dict={x: xdata}  )   #  2 outputs \n",
        "    print (out)"
      ],
      "execution_count": 0,
      "outputs": [
        {
          "output_type": "stream",
          "text": [
            "[array([[0.5],\n",
            "       [0.5]], dtype=float32)]\n"
          ],
          "name": "stdout"
        }
      ]
    },
    {
      "cell_type": "code",
      "metadata": {
        "id": "8jaIPVikKNE4",
        "colab_type": "code",
        "colab": {}
      },
      "source": [
        ""
      ],
      "execution_count": 0,
      "outputs": []
    }
  ]
}